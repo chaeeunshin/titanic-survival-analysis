{
 "cells": [
  {
   "cell_type": "code",
   "execution_count": 30,
   "id": "d3a1d768",
   "metadata": {},
   "outputs": [],
   "source": [
    "import pandas as pd\n",
    "import numpy as np \n",
    "import itertools\n",
    "from sklearn.linear_model import LogisticRegression\n",
    "from sklearn.metrics import mean_squared_error, r2_score, confusion_matrix, accuracy_score, recall_score, precision_score\n",
    "from sklearn.model_selection import train_test_split\n",
    "import statsmodels.api as sm"
   ]
  },
  {
   "cell_type": "code",
   "execution_count": 38,
   "id": "45f86f06",
   "metadata": {},
   "outputs": [
    {
     "name": "stdout",
     "output_type": "stream",
     "text": [
      "712\n"
     ]
    }
   ],
   "source": [
    "titanic = pd.read_csv('Titanic.csv')\n",
    "df = pd.DataFrame(titanic)\n",
    "excluded = ['PassengerId', 'Name', 'Ticket', 'Cabin']\n",
    "df = df.drop(columns=excluded)\n",
    "df = df.dropna(subset=['Age'])\n",
    "df = df.dropna(subset=['Embarked'])\n",
    "remained = df.shape[0]\n",
    "print(remained)"
   ]
  },
  {
   "cell_type": "code",
   "execution_count": 39,
   "id": "5d237052",
   "metadata": {},
   "outputs": [],
   "source": [
    "df['Survived'] = df['Survived'].astype('category')\n",
    "df['Pclass'] = df['Pclass'].astype('category')\n",
    "df['Sex'] = df['Sex'].replace({'male':0,'female':1})\n",
    "df['Sex'] =df['Sex'].astype('category')\n",
    "df['Embarked'] = df['Embarked'].replace({'C':0,'Q':1,'S':2})\n",
    "df['Embarked'] = df['Embarked'].astype('category')"
   ]
  },
  {
   "cell_type": "code",
   "execution_count": 40,
   "id": "c50de9b5",
   "metadata": {},
   "outputs": [
    {
     "name": "stdout",
     "output_type": "stream",
     "text": [
      "(569, 7)\n",
      "(143, 7)\n"
     ]
    }
   ],
   "source": [
    "x = df.drop('Survived', axis = 1)\n",
    "y = df['Survived']\n",
    "x_train, x_test, y_train, y_test = train_test_split(x,y,test_size=0.2,random_state=123)\n",
    "print(x_train.shape)\n",
    "print(x_test.shape)"
   ]
  },
  {
   "cell_type": "code",
   "execution_count": 41,
   "id": "f0904506",
   "metadata": {},
   "outputs": [
    {
     "name": "stderr",
     "output_type": "stream",
     "text": [
      "/opt/anaconda3/lib/python3.11/site-packages/sklearn/linear_model/_logistic.py:458: ConvergenceWarning: lbfgs failed to converge (status=1):\n",
      "STOP: TOTAL NO. of ITERATIONS REACHED LIMIT.\n",
      "\n",
      "Increase the number of iterations (max_iter) or scale the data as shown in:\n",
      "    https://scikit-learn.org/stable/modules/preprocessing.html\n",
      "Please also refer to the documentation for alternative solver options:\n",
      "    https://scikit-learn.org/stable/modules/linear_model.html#logistic-regression\n",
      "  n_iter_i = _check_optimize_result(\n"
     ]
    },
    {
     "data": {
      "text/html": [
       "<style>#sk-container-id-1 {color: black;background-color: white;}#sk-container-id-1 pre{padding: 0;}#sk-container-id-1 div.sk-toggleable {background-color: white;}#sk-container-id-1 label.sk-toggleable__label {cursor: pointer;display: block;width: 100%;margin-bottom: 0;padding: 0.3em;box-sizing: border-box;text-align: center;}#sk-container-id-1 label.sk-toggleable__label-arrow:before {content: \"▸\";float: left;margin-right: 0.25em;color: #696969;}#sk-container-id-1 label.sk-toggleable__label-arrow:hover:before {color: black;}#sk-container-id-1 div.sk-estimator:hover label.sk-toggleable__label-arrow:before {color: black;}#sk-container-id-1 div.sk-toggleable__content {max-height: 0;max-width: 0;overflow: hidden;text-align: left;background-color: #f0f8ff;}#sk-container-id-1 div.sk-toggleable__content pre {margin: 0.2em;color: black;border-radius: 0.25em;background-color: #f0f8ff;}#sk-container-id-1 input.sk-toggleable__control:checked~div.sk-toggleable__content {max-height: 200px;max-width: 100%;overflow: auto;}#sk-container-id-1 input.sk-toggleable__control:checked~label.sk-toggleable__label-arrow:before {content: \"▾\";}#sk-container-id-1 div.sk-estimator input.sk-toggleable__control:checked~label.sk-toggleable__label {background-color: #d4ebff;}#sk-container-id-1 div.sk-label input.sk-toggleable__control:checked~label.sk-toggleable__label {background-color: #d4ebff;}#sk-container-id-1 input.sk-hidden--visually {border: 0;clip: rect(1px 1px 1px 1px);clip: rect(1px, 1px, 1px, 1px);height: 1px;margin: -1px;overflow: hidden;padding: 0;position: absolute;width: 1px;}#sk-container-id-1 div.sk-estimator {font-family: monospace;background-color: #f0f8ff;border: 1px dotted black;border-radius: 0.25em;box-sizing: border-box;margin-bottom: 0.5em;}#sk-container-id-1 div.sk-estimator:hover {background-color: #d4ebff;}#sk-container-id-1 div.sk-parallel-item::after {content: \"\";width: 100%;border-bottom: 1px solid gray;flex-grow: 1;}#sk-container-id-1 div.sk-label:hover label.sk-toggleable__label {background-color: #d4ebff;}#sk-container-id-1 div.sk-serial::before {content: \"\";position: absolute;border-left: 1px solid gray;box-sizing: border-box;top: 0;bottom: 0;left: 50%;z-index: 0;}#sk-container-id-1 div.sk-serial {display: flex;flex-direction: column;align-items: center;background-color: white;padding-right: 0.2em;padding-left: 0.2em;position: relative;}#sk-container-id-1 div.sk-item {position: relative;z-index: 1;}#sk-container-id-1 div.sk-parallel {display: flex;align-items: stretch;justify-content: center;background-color: white;position: relative;}#sk-container-id-1 div.sk-item::before, #sk-container-id-1 div.sk-parallel-item::before {content: \"\";position: absolute;border-left: 1px solid gray;box-sizing: border-box;top: 0;bottom: 0;left: 50%;z-index: -1;}#sk-container-id-1 div.sk-parallel-item {display: flex;flex-direction: column;z-index: 1;position: relative;background-color: white;}#sk-container-id-1 div.sk-parallel-item:first-child::after {align-self: flex-end;width: 50%;}#sk-container-id-1 div.sk-parallel-item:last-child::after {align-self: flex-start;width: 50%;}#sk-container-id-1 div.sk-parallel-item:only-child::after {width: 0;}#sk-container-id-1 div.sk-dashed-wrapped {border: 1px dashed gray;margin: 0 0.4em 0.5em 0.4em;box-sizing: border-box;padding-bottom: 0.4em;background-color: white;}#sk-container-id-1 div.sk-label label {font-family: monospace;font-weight: bold;display: inline-block;line-height: 1.2em;}#sk-container-id-1 div.sk-label-container {text-align: center;}#sk-container-id-1 div.sk-container {/* jupyter's `normalize.less` sets `[hidden] { display: none; }` but bootstrap.min.css set `[hidden] { display: none !important; }` so we also need the `!important` here to be able to override the default hidden behavior on the sphinx rendered scikit-learn.org. See: https://github.com/scikit-learn/scikit-learn/issues/21755 */display: inline-block !important;position: relative;}#sk-container-id-1 div.sk-text-repr-fallback {display: none;}</style><div id=\"sk-container-id-1\" class=\"sk-top-container\"><div class=\"sk-text-repr-fallback\"><pre>LogisticRegression()</pre><b>In a Jupyter environment, please rerun this cell to show the HTML representation or trust the notebook. <br />On GitHub, the HTML representation is unable to render, please try loading this page with nbviewer.org.</b></div><div class=\"sk-container\" hidden><div class=\"sk-item\"><div class=\"sk-estimator sk-toggleable\"><input class=\"sk-toggleable__control sk-hidden--visually\" id=\"sk-estimator-id-1\" type=\"checkbox\" checked><label for=\"sk-estimator-id-1\" class=\"sk-toggleable__label sk-toggleable__label-arrow\">LogisticRegression</label><div class=\"sk-toggleable__content\"><pre>LogisticRegression()</pre></div></div></div></div></div>"
      ],
      "text/plain": [
       "LogisticRegression()"
      ]
     },
     "execution_count": 41,
     "metadata": {},
     "output_type": "execute_result"
    }
   ],
   "source": [
    "model = LogisticRegression()\n",
    "model.fit(x_train, y_train)"
   ]
  },
  {
   "cell_type": "code",
   "execution_count": 44,
   "id": "f1861a14",
   "metadata": {},
   "outputs": [
    {
     "name": "stdout",
     "output_type": "stream",
     "text": [
      "[0 0 1 1 0 1 0 1 1 1 0 0 0 0 0 0 1 1 0 1 0 0 1 1 0 1 0 0 0 1 1 0 0 1 1 0 0\n",
      " 1 0 0 0 0 0 0 0 0 1 0 0 1 0 1 1 1 0 0 0 1 0 0 0 0 0 0 1 0 1 1 1 0 1 0 1 1\n",
      " 1 0 0 0 0 1 0 0 0 0 0 0 0 1 0 1 1 1 1 0 0 0 0 1 0 1 1 1 0 0 0 0 0 0 0 0 0\n",
      " 0 1 0 0 0 0 0 1 0 0 1 1 0 0 1 0 0 1 0 0 0 0 1 0 0 0 0 0 0 0 0 0]\n"
     ]
    }
   ],
   "source": [
    "y_pred = model.predict(x_test)\n",
    "print(y_pred)"
   ]
  },
  {
   "cell_type": "code",
   "execution_count": 46,
   "id": "5daa7b12",
   "metadata": {},
   "outputs": [
    {
     "name": "stdout",
     "output_type": "stream",
     "text": [
      "Confusion matrix: \n",
      "[[73 10]\n",
      " [22 38]]\n"
     ]
    }
   ],
   "source": [
    "cm = confusion_matrix(y_test,y_pred)\n",
    "print(\"Confusion matrix: \")\n",
    "print(cm)"
   ]
  },
  {
   "cell_type": "code",
   "execution_count": 47,
   "id": "6809d9ae",
   "metadata": {},
   "outputs": [
    {
     "name": "stdout",
     "output_type": "stream",
     "text": [
      "Overall accuracy:  0.7762237762237763\n"
     ]
    }
   ],
   "source": [
    "accuracy = accuracy_score(y_test, y_pred)\n",
    "print(\"Overall accuracy: \", accuracy)"
   ]
  },
  {
   "cell_type": "code",
   "execution_count": 48,
   "id": "93974aef",
   "metadata": {},
   "outputs": [
    {
     "name": "stdout",
     "output_type": "stream",
     "text": [
      "Sensitivity score:  0.6333333333333333\n"
     ]
    }
   ],
   "source": [
    "sensitivity = recall_score(y_test, y_pred)\n",
    "print(\"Sensitivity score: \", sensitivity)"
   ]
  },
  {
   "cell_type": "code",
   "execution_count": 54,
   "id": "29c7571d",
   "metadata": {},
   "outputs": [
    {
     "name": "stdout",
     "output_type": "stream",
     "text": [
      "Specificity score:  0.8795180722891566\n",
      "<class 'int'>\n"
     ]
    }
   ],
   "source": [
    "specificity = cm[0,0]/(cm[0,0]+cm[0,1])\n",
    "print(\"Specificity score: \", specificity)"
   ]
  },
  {
   "cell_type": "code",
   "execution_count": 84,
   "id": "cab28d82",
   "metadata": {},
   "outputs": [
    {
     "name": "stdout",
     "output_type": "stream",
     "text": [
      "Enter a new passenger's passenger class. 1 for the first class, 2 for the second, 3 for the third:3\n"
     ]
    }
   ],
   "source": [
    "new_passenger_Pclass = input(\"Enter a new passenger's passenger class. 1 for the first class, 2 for the second, 3 for the third:\")\n",
    "try: \n",
    "    new_passenger_Pclass = int(new_passenger_Pclass)\n",
    "    if new_passenger_Pclass < 1 or new_passenger_Pclass > 3:\n",
    "        raise ValueError(\"Invalid passenger class. Passenger class must be either 1,2, or 3.\")\n",
    "except ValueError: \n",
    "    raise ValueError(\"Invalid input for passenger class. Passenger class must be an integer either 1,2, or 3.\")"
   ]
  },
  {
   "cell_type": "code",
   "execution_count": 85,
   "id": "8ad50cdf",
   "metadata": {},
   "outputs": [
    {
     "name": "stdout",
     "output_type": "stream",
     "text": [
      "Enter the new passenger's sex. 0 for male, 1 for female: 0\n"
     ]
    }
   ],
   "source": [
    "new_passenger_Sex = input(\"Enter the new passenger's sex. 0 for male, 1 for female: \")\n",
    "try:\n",
    "    new_passenger_Sex = int(new_passenger_Sex)\n",
    "    if new_passenger_Sex < 0 or new_passenger_Sex > 1:\n",
    "        raise ValueError(\"Invalid input. If the passenger is male, enter 0. Otherwise, enter 1.\")\n",
    "except ValueError:\n",
    "    raise ValueError(\"Invalid input type. If the passenger is male, enter 0. Otherwise, enter 1.\")"
   ]
  },
  {
   "cell_type": "code",
   "execution_count": 86,
   "id": "aad8c5c2",
   "metadata": {},
   "outputs": [
    {
     "name": "stdout",
     "output_type": "stream",
     "text": [
      "Enter the passenger's age: 23\n"
     ]
    }
   ],
   "source": [
    "new_passenger_Age = input(\"Enter the passenger's age: \")\n",
    "try: \n",
    "    new_passenger_Age = int(new_passenger_Age)\n",
    "    if new_passenger_Age < 0:\n",
    "        raise ValueError('Invalid input. Age cannot be less than zero.')\n",
    "except ValueError:\n",
    "    raise ValueError(\"Invalid input type. Enter a positive integer.\")"
   ]
  },
  {
   "cell_type": "code",
   "execution_count": 87,
   "id": "74232dee",
   "metadata": {},
   "outputs": [
    {
     "name": "stdout",
     "output_type": "stream",
     "text": [
      "Enter the number of siblings/spouses aboard: 0\n"
     ]
    }
   ],
   "source": [
    "new_passenger_SibSp = input(\"Enter the number of siblings/spouses aboard: \")\n",
    "try:\n",
    "    new_passenger_SibSp = int(new_passenger_SibSp)\n",
    "    if new_passenger_SibSp < 0:\n",
    "        raise ValueError('Invalid input. Enter a positive integer.')\n",
    "except ValueError:\n",
    "    raise ValueError(\"Invalid input type. Enter a positive integer.\")"
   ]
  },
  {
   "cell_type": "code",
   "execution_count": 88,
   "id": "fc6fd963",
   "metadata": {},
   "outputs": [
    {
     "name": "stdout",
     "output_type": "stream",
     "text": [
      "Enter the number of parents/children aboard: 0\n"
     ]
    }
   ],
   "source": [
    "new_passenger_Parch = input(\"Enter the number of parents/children aboard: \")\n",
    "try:\n",
    "    new_passenger_Parch = int(new_passenger_Parch)\n",
    "    if new_passenger_Parch < 0:\n",
    "        raise ValueError(\"Invalid input. Enter a positive integer.\")\n",
    "except ValueError:\n",
    "    raise ValueError(\"Invalid input type. Enter a positive integer.\")"
   ]
  },
  {
   "cell_type": "code",
   "execution_count": 89,
   "id": "b7b5df19",
   "metadata": {},
   "outputs": [
    {
     "name": "stdout",
     "output_type": "stream",
     "text": [
      "Enter the passenger fare, in British Pound: 8.25\n"
     ]
    }
   ],
   "source": [
    "new_passenger_Fare = input(\"Enter the passenger fare, in British Pound: \")\n",
    "try:\n",
    "    new_passenger_Fare = float(new_passenger_Fare)\n",
    "    if new_passenger_Fare < 0:\n",
    "        raise ValueError(\"Invalid input. Enter a positive integer.\")\n",
    "except ValueError:\n",
    "    raise ValueError(\"Invalid input type. Eneter a positive float.\")"
   ]
  },
  {
   "cell_type": "code",
   "execution_count": 90,
   "id": "c4f69e62",
   "metadata": {},
   "outputs": [
    {
     "name": "stdout",
     "output_type": "stream",
     "text": [
      "Enter port of embarkation. C for Cherbourg, Q for Queenstown, S for Southampton.: Q\n"
     ]
    }
   ],
   "source": [
    "new_passenger_Embarked = input(\"Enter port of embarkation. C for Cherbourg, Q for Queenstown, S for Southampton.: \")\n",
    "embark_mapping = {'C':0, 'Q':1, 'S':2}\n",
    "if new_passenger_Embarked in embark_mapping:\n",
    "    new_passenger_Embarked = embark_mapping[new_passenger_Embarked]\n",
    "else:\n",
    "    raise ValueError(\"Invalid input. Enter one of the following: C for Cherbourg, Q for Queenstown, S for Southampton.\")"
   ]
  },
  {
   "cell_type": "code",
   "execution_count": 96,
   "id": "6342b42d",
   "metadata": {},
   "outputs": [],
   "source": [
    "x_new = np.array([new_passenger_Pclass, new_passenger_Sex, new_passenger_Age, new_passenger_SibSp, new_passenger_Parch, new_passenger_Fare, new_passenger_Embarked])\n",
    "x_new = x_new.reshape(1,-1)"
   ]
  },
  {
   "cell_type": "code",
   "execution_count": 97,
   "id": "0d296d10",
   "metadata": {},
   "outputs": [
    {
     "name": "stdout",
     "output_type": "stream",
     "text": [
      "[0]\n"
     ]
    },
    {
     "name": "stderr",
     "output_type": "stream",
     "text": [
      "/opt/anaconda3/lib/python3.11/site-packages/sklearn/base.py:439: UserWarning: X does not have valid feature names, but LogisticRegression was fitted with feature names\n",
      "  warnings.warn(\n"
     ]
    }
   ],
   "source": [
    "y_new = model.predict(x_new)\n",
    "print(y_new)"
   ]
  },
  {
   "cell_type": "code",
   "execution_count": null,
   "id": "6cc5d72a",
   "metadata": {},
   "outputs": [],
   "source": []
  }
 ],
 "metadata": {
  "kernelspec": {
   "display_name": "Python 3 (ipykernel)",
   "language": "python",
   "name": "python3"
  },
  "language_info": {
   "codemirror_mode": {
    "name": "ipython",
    "version": 3
   },
   "file_extension": ".py",
   "mimetype": "text/x-python",
   "name": "python",
   "nbconvert_exporter": "python",
   "pygments_lexer": "ipython3",
   "version": "3.11.7"
  }
 },
 "nbformat": 4,
 "nbformat_minor": 5
}
